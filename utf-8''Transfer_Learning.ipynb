{
 "cells": [
  {
   "cell_type": "markdown",
   "metadata": {
    "collapsed": true
   },
   "source": [
    "# Import Packages"
   ]
  },
  {
   "cell_type": "code",
   "execution_count": 2,
   "metadata": {},
   "outputs": [],
   "source": [
    "%matplotlib inline\n",
    "\n",
    "import numpy as np\n",
    "import pandas as pd\n",
    "from keras.preprocessing.image import ImageDataGenerator\n",
    "from keras.models import Model\n",
    "from keras.layers import Input, Flatten, Dense\n",
    "from keras.callbacks import Callback, ModelCheckpoint\n",
    "from keras.preprocessing import image\n",
    "\n",
    "from keras.applications.mobilenet import MobileNet\n",
    "from keras.applications.mobilenet import preprocess_input\n",
    "\n",
    "import warnings\n",
    "warnings.filterwarnings('ignore')"
   ]
  },
  {
   "cell_type": "markdown",
   "metadata": {},
   "source": [
    "# Load the pretrained network like VGG16,ALexNet,VGG19 etc"
   ]
  },
  {
   "cell_type": "code",
   "execution_count": 2,
   "metadata": {},
   "outputs": [
    {
     "name": "stdout",
     "output_type": "stream",
     "text": [
      "Downloading data from https://github.com/fchollet/deep-learning-models/releases/download/v0.6/mobilenet_1_0_224_tf_no_top.h5\n",
      "17227776/17225924 [==============================] - 10s 1us/step\n"
     ]
    }
   ],
   "source": [
    "model_mobilenet_conv = MobileNet(weights='imagenet', include_top=False)"
   ]
  },
  {
   "cell_type": "markdown",
   "metadata": {},
   "source": [
    "# Freeze the model, No weigh update, Use Trained Weights"
   ]
  },
  {
   "cell_type": "code",
   "execution_count": 65,
   "metadata": {},
   "outputs": [],
   "source": [
    "for layer in model_mobilenet_conv.layers:\n",
    "    layer.trainable = False"
   ]
  },
  {
   "cell_type": "markdown",
   "metadata": {},
   "source": [
    "# Training Parameters"
   ]
  },
  {
   "cell_type": "code",
   "execution_count": 66,
   "metadata": {},
   "outputs": [],
   "source": [
    "img_width, img_height = 224, 224\n",
    "train_data_dir = 'Train'\n",
    "val_data_dir = 'Validate'\n",
    "model_weights_file = 'mobilenet.h5'\n",
    "nb_train_samples = 20\n",
    "nb_val_samples = 4\n",
    "nb_epochs = 150"
   ]
  },
  {
   "cell_type": "markdown",
   "metadata": {},
   "source": [
    "# Build a classification model on top of Base Network"
   ]
  },
  {
   "cell_type": "code",
   "execution_count": 67,
   "metadata": {},
   "outputs": [],
   "source": [
    "input = Input(shape=(img_width, img_height, 3))\n",
    "output_mobilenet_conv = model_mobilenet_conv(input)\n",
    "x1 = Flatten()(output_mobilenet_conv)\n",
    "x2 = Dense(64, activation='relu')(x1)\n",
    "x3 = Dense(2, activation='softmax')(x2)\n",
    "model = Model(input=input, output=x3)\n",
    "\n",
    "model.compile(loss='categorical_crossentropy', optimizer='rmsprop', metrics=['accuracy'])"
   ]
  },
  {
   "cell_type": "markdown",
   "metadata": {},
   "source": [
    "# Dataset Preparation"
   ]
  },
  {
   "cell_type": "code",
   "execution_count": 69,
   "metadata": {},
   "outputs": [
    {
     "name": "stdout",
     "output_type": "stream",
     "text": [
      "Found 1009 images belonging to 2 classes.\n",
      "Found 17 images belonging to 2 classes.\n"
     ]
    }
   ],
   "source": [
    "train_datagen = ImageDataGenerator(rescale=1./255)\n",
    "test_datagen = ImageDataGenerator(rescale=1./255)\n",
    "\n",
    "train_generator = train_datagen.flow_from_directory(train_data_dir, target_size=(img_width, img_height), \n",
    "                                                    batch_size=4, class_mode='categorical')\n",
    "validation_generator = test_datagen.flow_from_directory(val_data_dir, target_size=(img_width, img_height), \n",
    "                                                        batch_size=4,class_mode='categorical')"
   ]
  },
  {
   "cell_type": "markdown",
   "metadata": {},
   "source": [
    "# Training"
   ]
  },
  {
   "cell_type": "code",
   "execution_count": 70,
   "metadata": {},
   "outputs": [
    {
     "name": "stdout",
     "output_type": "stream",
     "text": [
      "Epoch 1/150\n",
      "5/5 [==============================] - 11s 2s/step - loss: 26.5434 - accuracy: 0.4500 - val_loss: 16.7758 - val_accuracy: 0.5000\n",
      "Epoch 2/150\n",
      "5/5 [==============================] - 7s 1s/step - loss: 21.3408 - accuracy: 0.4500 - val_loss: 2.4008 - val_accuracy: 0.6154\n",
      "Epoch 3/150\n",
      "5/5 [==============================] - 6s 1s/step - loss: 3.6592 - accuracy: 0.8000 - val_loss: 3.4536 - val_accuracy: 0.4615\n",
      "Epoch 4/150\n",
      "5/5 [==============================] - 4s 870ms/step - loss: 0.8985 - accuracy: 0.9500 - val_loss: 12.5368 - val_accuracy: 0.3077\n",
      "Epoch 5/150\n",
      "5/5 [==============================] - 5s 993ms/step - loss: 2.6521 - accuracy: 0.8000 - val_loss: 26.2578 - val_accuracy: 0.4615\n",
      "Epoch 6/150\n",
      "5/5 [==============================] - 5s 1s/step - loss: 2.2657 - accuracy: 0.9000 - val_loss: 10.9218 - val_accuracy: 0.4375\n",
      "Epoch 7/150\n",
      "5/5 [==============================] - 6s 1s/step - loss: 0.9943 - accuracy: 0.7500 - val_loss: 23.0155 - val_accuracy: 0.6923\n",
      "Epoch 8/150\n",
      "5/5 [==============================] - 6s 1s/step - loss: 5.7445 - accuracy: 0.8500 - val_loss: 4.8992 - val_accuracy: 0.4615\n",
      "Epoch 9/150\n",
      "5/5 [==============================] - 6s 1s/step - loss: 1.1335 - accuracy: 0.9000 - val_loss: 1.6430 - val_accuracy: 0.4615\n",
      "Epoch 10/150\n",
      "5/5 [==============================] - 5s 919ms/step - loss: 13.0535 - accuracy: 0.4500 - val_loss: 35.5297 - val_accuracy: 0.5385\n",
      "Epoch 11/150\n",
      "5/5 [==============================] - 5s 994ms/step - loss: 5.2120 - accuracy: 0.8000 - val_loss: 0.2875 - val_accuracy: 0.5000\n",
      "Epoch 12/150\n",
      "5/5 [==============================] - 5s 972ms/step - loss: 3.2300 - accuracy: 0.8000 - val_loss: 15.7342 - val_accuracy: 0.5385\n",
      "Epoch 13/150\n",
      "5/5 [==============================] - 5s 989ms/step - loss: 6.7122 - accuracy: 0.7500 - val_loss: 22.9735 - val_accuracy: 0.6154\n",
      "Epoch 14/150\n",
      "5/5 [==============================] - 5s 955ms/step - loss: 1.8515 - accuracy: 0.8000 - val_loss: 20.4862 - val_accuracy: 0.6154\n",
      "Epoch 15/150\n",
      "5/5 [==============================] - 4s 858ms/step - loss: 1.6183 - accuracy: 0.9000 - val_loss: 0.0000e+00 - val_accuracy: 0.6923\n",
      "Epoch 16/150\n",
      "5/5 [==============================] - 5s 936ms/step - loss: 7.0082 - accuracy: 0.7000 - val_loss: 31.0242 - val_accuracy: 0.6250\n",
      "Epoch 17/150\n",
      "5/5 [==============================] - 5s 1s/step - loss: 1.2406 - accuracy: 0.9000 - val_loss: 17.1751 - val_accuracy: 0.4615\n",
      "Epoch 18/150\n",
      "5/5 [==============================] - 5s 1s/step - loss: 5.3048 - accuracy: 0.8000 - val_loss: 18.0335 - val_accuracy: 0.4615\n",
      "Epoch 19/150\n",
      "5/5 [==============================] - 7s 1s/step - loss: 0.5750 - accuracy: 0.9500 - val_loss: 7.5791 - val_accuracy: 0.3846\n",
      "Epoch 20/150\n",
      "5/5 [==============================] - 5s 921ms/step - loss: 2.9034 - accuracy: 0.8500 - val_loss: 52.0269 - val_accuracy: 0.6154\n",
      "Epoch 21/150\n",
      "5/5 [==============================] - 4s 896ms/step - loss: 7.2843 - accuracy: 0.8500 - val_loss: 8.6723 - val_accuracy: 0.5625\n",
      "Epoch 22/150\n",
      "5/5 [==============================] - 5s 1s/step - loss: 1.2040 - accuracy: 0.8500 - val_loss: 10.1247 - val_accuracy: 0.5385\n",
      "Epoch 23/150\n",
      "5/5 [==============================] - 5s 932ms/step - loss: 2.1718 - accuracy: 0.8500 - val_loss: 14.7276 - val_accuracy: 0.3077\n",
      "Epoch 24/150\n",
      "5/5 [==============================] - 4s 855ms/step - loss: 13.8088 - accuracy: 0.6000 - val_loss: 9.5626 - val_accuracy: 0.3077\n",
      "Epoch 25/150\n",
      "5/5 [==============================] - 5s 913ms/step - loss: 1.7406 - accuracy: 0.9500 - val_loss: 38.8957 - val_accuracy: 0.3846\n",
      "Epoch 26/150\n",
      "5/5 [==============================] - 5s 1s/step - loss: 3.2689 - accuracy: 0.7500 - val_loss: 15.4113 - val_accuracy: 0.3750\n",
      "Epoch 27/150\n",
      "5/5 [==============================] - 6s 1s/step - loss: 5.2411 - accuracy: 0.8235 - val_loss: 15.5235 - val_accuracy: 0.3077\n",
      "Epoch 28/150\n",
      "5/5 [==============================] - 5s 911ms/step - loss: 2.8427 - accuracy: 0.8500 - val_loss: 13.2844 - val_accuracy: 0.6154\n",
      "Epoch 29/150\n",
      "5/5 [==============================] - 4s 873ms/step - loss: 0.8939 - accuracy: 0.9000 - val_loss: 20.6546 - val_accuracy: 0.4615\n",
      "Epoch 30/150\n",
      "5/5 [==============================] - 5s 948ms/step - loss: 3.0428 - accuracy: 0.8000 - val_loss: 0.0000e+00 - val_accuracy: 0.6154\n",
      "Epoch 31/150\n",
      "5/5 [==============================] - 6s 1s/step - loss: 2.2757 - accuracy: 0.8000 - val_loss: 12.6488 - val_accuracy: 0.5625\n",
      "Epoch 32/150\n",
      "5/5 [==============================] - 6s 1s/step - loss: 9.0597 - accuracy: 0.7000 - val_loss: 5.6065 - val_accuracy: 0.5385\n",
      "Epoch 33/150\n",
      "5/5 [==============================] - 4s 870ms/step - loss: 1.3237 - accuracy: 0.8500 - val_loss: 5.2778 - val_accuracy: 0.5385\n",
      "Epoch 34/150\n",
      "5/5 [==============================] - 5s 1s/step - loss: 0.3536 - accuracy: 0.9500 - val_loss: 6.0638 - val_accuracy: 0.5385\n",
      "Epoch 35/150\n",
      "5/5 [==============================] - 4s 787ms/step - loss: 1.5895 - accuracy: 0.9000 - val_loss: 45.2418 - val_accuracy: 0.5385\n",
      "Epoch 36/150\n",
      "5/5 [==============================] - 5s 997ms/step - loss: 5.1118 - accuracy: 0.7500 - val_loss: 3.4390 - val_accuracy: 0.5000\n",
      "Epoch 37/150\n",
      "5/5 [==============================] - 5s 972ms/step - loss: 9.0185 - accuracy: 0.6000 - val_loss: 5.9298 - val_accuracy: 0.5385\n",
      "Epoch 38/150\n",
      "5/5 [==============================] - 5s 953ms/step - loss: 3.2067 - accuracy: 0.8000 - val_loss: 0.8783 - val_accuracy: 0.5385\n",
      "Epoch 39/150\n",
      "5/5 [==============================] - 4s 885ms/step - loss: 2.8850 - accuracy: 0.8500 - val_loss: 12.7119 - val_accuracy: 0.5385\n",
      "Epoch 40/150\n",
      "5/5 [==============================] - 4s 898ms/step - loss: 2.5990 - accuracy: 0.7500 - val_loss: 1.1921e-06 - val_accuracy: 0.6154\n",
      "Epoch 41/150\n",
      "5/5 [==============================] - 5s 904ms/step - loss: 2.1734 - accuracy: 0.9000 - val_loss: 13.6400 - val_accuracy: 0.5625\n",
      "Epoch 42/150\n",
      "5/5 [==============================] - 6s 1s/step - loss: 1.1513 - accuracy: 0.8500 - val_loss: 3.1402 - val_accuracy: 0.4615\n",
      "Epoch 43/150\n",
      "5/5 [==============================] - 5s 965ms/step - loss: 0.6671 - accuracy: 0.9000 - val_loss: 1.2119 - val_accuracy: 0.6923\n",
      "Epoch 44/150\n",
      "5/5 [==============================] - 6s 1s/step - loss: 0.9433 - accuracy: 0.9000 - val_loss: 3.7510 - val_accuracy: 0.5385\n",
      "Epoch 45/150\n",
      "5/5 [==============================] - 4s 832ms/step - loss: 0.2947 - accuracy: 0.8500 - val_loss: 4.9748 - val_accuracy: 0.4615\n",
      "Epoch 46/150\n",
      "5/5 [==============================] - 5s 997ms/step - loss: 2.3732 - accuracy: 0.6500 - val_loss: 1.0547 - val_accuracy: 0.5625\n",
      "Epoch 47/150\n",
      "5/5 [==============================] - 5s 1s/step - loss: 0.2116 - accuracy: 0.8500 - val_loss: 3.7911 - val_accuracy: 0.5385\n",
      "Epoch 48/150\n",
      "5/5 [==============================] - 5s 959ms/step - loss: 0.5879 - accuracy: 0.8000 - val_loss: 1.5828 - val_accuracy: 0.6154\n",
      "Epoch 49/150\n",
      "5/5 [==============================] - 5s 1s/step - loss: 0.4234 - accuracy: 0.8000 - val_loss: 5.0754 - val_accuracy: 0.6154\n",
      "Epoch 50/150\n",
      "5/5 [==============================] - 4s 718ms/step - loss: 0.9028 - accuracy: 0.8000 - val_loss: 4.7615 - val_accuracy: 0.6154\n",
      "Epoch 51/150\n",
      "5/5 [==============================] - 5s 1s/step - loss: 1.1662 - accuracy: 0.8000 - val_loss: 1.4762 - val_accuracy: 0.4375\n",
      "Epoch 52/150\n",
      "5/5 [==============================] - 5s 1s/step - loss: 1.5576 - accuracy: 0.8500 - val_loss: 0.1063 - val_accuracy: 0.6923\n",
      "Epoch 53/150\n",
      "5/5 [==============================] - 5s 952ms/step - loss: 2.1220 - accuracy: 0.7000 - val_loss: 9.0958 - val_accuracy: 0.6923\n",
      "Epoch 54/150\n",
      "5/5 [==============================] - 5s 1s/step - loss: 0.4088 - accuracy: 0.9500 - val_loss: 6.0539 - val_accuracy: 0.4615\n",
      "Epoch 55/150\n",
      "5/5 [==============================] - 4s 805ms/step - loss: 0.8040 - accuracy: 0.8500 - val_loss: 0.2187 - val_accuracy: 0.5385\n",
      "Epoch 56/150\n",
      "5/5 [==============================] - 7s 1s/step - loss: 0.1775 - accuracy: 0.9500 - val_loss: 2.3476 - val_accuracy: 0.3125\n",
      "Epoch 57/150\n",
      "5/5 [==============================] - 5s 1s/step - loss: 1.5825 - accuracy: 0.8500 - val_loss: 3.3088 - val_accuracy: 0.4615\n",
      "Epoch 58/150\n",
      "5/5 [==============================] - 5s 923ms/step - loss: 0.5339 - accuracy: 0.8500 - val_loss: 4.5350 - val_accuracy: 0.3846\n"
     ]
    },
    {
     "name": "stdout",
     "output_type": "stream",
     "text": [
      "Epoch 59/150\n",
      "5/5 [==============================] - 5s 1s/step - loss: 0.0092 - accuracy: 1.0000 - val_loss: 1.2811 - val_accuracy: 0.6154\n",
      "Epoch 60/150\n",
      "5/5 [==============================] - 5s 924ms/step - loss: 0.9038 - accuracy: 0.9000 - val_loss: 2.3842e-07 - val_accuracy: 0.3077\n",
      "Epoch 61/150\n",
      "5/5 [==============================] - 6s 1s/step - loss: 0.1577 - accuracy: 0.9500 - val_loss: 5.9782 - val_accuracy: 0.5625\n",
      "Epoch 62/150\n",
      "5/5 [==============================] - 6s 1s/step - loss: 0.0506 - accuracy: 0.9500 - val_loss: 1.8675 - val_accuracy: 0.5385\n",
      "Epoch 63/150\n",
      "5/5 [==============================] - 5s 923ms/step - loss: 2.1016 - accuracy: 0.7500 - val_loss: 3.3259 - val_accuracy: 0.2308\n",
      "Epoch 64/150\n",
      "5/5 [==============================] - 4s 847ms/step - loss: 0.5052 - accuracy: 0.9000 - val_loss: 0.9244 - val_accuracy: 0.6154\n",
      "Epoch 65/150\n",
      "5/5 [==============================] - 4s 885ms/step - loss: 2.6850 - accuracy: 0.7500 - val_loss: 6.1940 - val_accuracy: 0.5385\n",
      "Epoch 66/150\n",
      "5/5 [==============================] - 5s 993ms/step - loss: 1.3816 - accuracy: 0.9000 - val_loss: 4.1533 - val_accuracy: 0.5625\n",
      "Epoch 67/150\n",
      "5/5 [==============================] - 6s 1s/step - loss: 0.1091 - accuracy: 0.9500 - val_loss: 1.9957 - val_accuracy: 0.5385\n",
      "Epoch 68/150\n",
      "5/5 [==============================] - 6s 1s/step - loss: 0.1900 - accuracy: 0.9000 - val_loss: 6.3930 - val_accuracy: 0.6154\n",
      "Epoch 69/150\n",
      "5/5 [==============================] - 5s 1s/step - loss: 1.1386 - accuracy: 0.9000 - val_loss: 4.1838 - val_accuracy: 0.6154\n",
      "Epoch 70/150\n",
      "5/5 [==============================] - 5s 935ms/step - loss: 0.3155 - accuracy: 0.9000 - val_loss: 9.9296e-05 - val_accuracy: 0.5385\n",
      "Epoch 71/150\n",
      "5/5 [==============================] - 5s 1s/step - loss: 1.1419 - accuracy: 0.8500 - val_loss: 5.4309 - val_accuracy: 0.4375\n",
      "Epoch 72/150\n",
      "5/5 [==============================] - 5s 922ms/step - loss: 1.4233 - accuracy: 0.8000 - val_loss: 3.7661 - val_accuracy: 0.6923\n",
      "Epoch 73/150\n",
      "5/5 [==============================] - 5s 922ms/step - loss: 0.4056 - accuracy: 0.9500 - val_loss: 4.5702 - val_accuracy: 0.3846\n",
      "Epoch 74/150\n",
      "5/5 [==============================] - 6s 1s/step - loss: 0.0777 - accuracy: 0.9500 - val_loss: 8.4496 - val_accuracy: 0.6154\n",
      "Epoch 75/150\n",
      "5/5 [==============================] - 4s 823ms/step - loss: 2.8694 - accuracy: 0.8000 - val_loss: 2.1458e-06 - val_accuracy: 0.5385\n",
      "Epoch 76/150\n",
      "5/5 [==============================] - 5s 902ms/step - loss: 1.0850 - accuracy: 0.9000 - val_loss: 2.5328 - val_accuracy: 0.4375\n",
      "Epoch 77/150\n",
      "5/5 [==============================] - 5s 942ms/step - loss: 1.2442 - accuracy: 0.9000 - val_loss: 2.7387 - val_accuracy: 0.4615\n",
      "Epoch 78/150\n",
      "5/5 [==============================] - 5s 943ms/step - loss: 0.0744 - accuracy: 0.9500 - val_loss: 1.9917 - val_accuracy: 0.4615\n",
      "Epoch 79/150\n",
      "5/5 [==============================] - 5s 992ms/step - loss: 0.5017 - accuracy: 0.9000 - val_loss: 3.4072 - val_accuracy: 0.6154\n",
      "Epoch 80/150\n",
      "5/5 [==============================] - 5s 1s/step - loss: 1.1578e-04 - accuracy: 1.0000 - val_loss: 0.0000e+00 - val_accuracy: 0.6154\n",
      "Epoch 81/150\n",
      "5/5 [==============================] - 4s 896ms/step - loss: 0.2362 - accuracy: 0.9412 - val_loss: 2.1218 - val_accuracy: 0.5000\n",
      "Epoch 82/150\n",
      "5/5 [==============================] - 5s 1s/step - loss: 2.7264 - accuracy: 0.8500 - val_loss: 8.1881 - val_accuracy: 0.3077\n",
      "Epoch 83/150\n",
      "5/5 [==============================] - 4s 887ms/step - loss: 2.3500 - accuracy: 0.8500 - val_loss: 0.0033 - val_accuracy: 0.9231\n",
      "Epoch 84/150\n",
      "5/5 [==============================] - 4s 881ms/step - loss: 1.3514 - accuracy: 0.9000 - val_loss: 5.6135 - val_accuracy: 0.5385\n",
      "Epoch 85/150\n",
      "5/5 [==============================] - 4s 762ms/step - loss: 0.8551 - accuracy: 0.8500 - val_loss: 31.9856 - val_accuracy: 0.5385\n",
      "Epoch 86/150\n",
      "5/5 [==============================] - 4s 842ms/step - loss: 1.8491 - accuracy: 0.8000 - val_loss: 5.1049 - val_accuracy: 0.5000\n",
      "Epoch 87/150\n",
      "5/5 [==============================] - 5s 964ms/step - loss: 1.3017 - accuracy: 0.9500 - val_loss: 4.4608 - val_accuracy: 0.5385\n",
      "Epoch 88/150\n",
      "5/5 [==============================] - 5s 930ms/step - loss: 2.2989 - accuracy: 0.8000 - val_loss: 0.9427 - val_accuracy: 0.6154\n",
      "Epoch 89/150\n",
      "5/5 [==============================] - 4s 823ms/step - loss: 2.2672 - accuracy: 0.7500 - val_loss: 11.2832 - val_accuracy: 0.2308\n",
      "Epoch 90/150\n",
      "5/5 [==============================] - 4s 784ms/step - loss: 0.5903 - accuracy: 0.9000 - val_loss: 1.1873e-04 - val_accuracy: 0.4615\n",
      "Epoch 91/150\n",
      "5/5 [==============================] - 4s 895ms/step - loss: 0.1092 - accuracy: 0.9500 - val_loss: 5.1180e-04 - val_accuracy: 0.5000\n",
      "Epoch 92/150\n",
      "5/5 [==============================] - 5s 912ms/step - loss: 3.6910 - accuracy: 0.7000 - val_loss: 5.2044 - val_accuracy: 0.5385\n",
      "Epoch 93/150\n",
      "5/5 [==============================] - 6s 1s/step - loss: 0.7048 - accuracy: 0.8000 - val_loss: 2.5349 - val_accuracy: 0.5385\n",
      "Epoch 94/150\n",
      "5/5 [==============================] - 4s 834ms/step - loss: 0.3776 - accuracy: 0.9000 - val_loss: 4.4159 - val_accuracy: 0.4615\n",
      "Epoch 95/150\n",
      "5/5 [==============================] - 4s 811ms/step - loss: 0.3365 - accuracy: 0.9500 - val_loss: 0.0000e+00 - val_accuracy: 0.6923\n",
      "Epoch 96/150\n",
      "5/5 [==============================] - 5s 956ms/step - loss: 0.0180 - accuracy: 1.0000 - val_loss: 9.0772 - val_accuracy: 0.5625\n",
      "Epoch 97/150\n",
      "5/5 [==============================] - 4s 870ms/step - loss: 0.5501 - accuracy: 0.9500 - val_loss: 0.0068 - val_accuracy: 0.6923\n",
      "Epoch 98/150\n",
      "5/5 [==============================] - 5s 937ms/step - loss: 0.4711 - accuracy: 0.9000 - val_loss: 2.9301 - val_accuracy: 0.4615\n",
      "Epoch 99/150\n",
      "5/5 [==============================] - 4s 895ms/step - loss: 8.4638e-07 - accuracy: 1.0000 - val_loss: 4.3508e-05 - val_accuracy: 0.7692\n",
      "Epoch 100/150\n",
      "5/5 [==============================] - 3s 689ms/step - loss: 4.8876e-07 - accuracy: 1.0000 - val_loss: 0.0000e+00 - val_accuracy: 0.3846\n",
      "Epoch 101/150\n",
      "5/5 [==============================] - 4s 875ms/step - loss: 2.3979 - accuracy: 0.8000 - val_loss: 11.7189 - val_accuracy: 0.5625\n",
      "Epoch 102/150\n",
      "5/5 [==============================] - 6s 1s/step - loss: 1.1631e-04 - accuracy: 1.0000 - val_loss: 9.2795 - val_accuracy: 0.4615\n",
      "Epoch 103/150\n",
      "5/5 [==============================] - 5s 1s/step - loss: 8.9407e-08 - accuracy: 1.0000 - val_loss: 6.4495 - val_accuracy: 0.4615\n",
      "Epoch 104/150\n",
      "5/5 [==============================] - 4s 884ms/step - loss: 0.8734 - accuracy: 0.9000 - val_loss: 19.4214 - val_accuracy: 0.3846\n",
      "Epoch 105/150\n",
      "5/5 [==============================] - 4s 868ms/step - loss: 0.6562 - accuracy: 0.9000 - val_loss: 7.7123e-04 - val_accuracy: 0.6923\n",
      "Epoch 106/150\n",
      "5/5 [==============================] - 6s 1s/step - loss: 1.4509 - accuracy: 0.8000 - val_loss: 16.4789 - val_accuracy: 0.6250\n",
      "Epoch 107/150\n",
      "5/5 [==============================] - 5s 968ms/step - loss: 2.2579 - accuracy: 0.9000 - val_loss: 1.2889 - val_accuracy: 0.6154\n",
      "Epoch 108/150\n",
      "5/5 [==============================] - 5s 905ms/step - loss: 2.1608 - accuracy: 0.8500 - val_loss: 5.5548 - val_accuracy: 0.6154\n",
      "Epoch 109/150\n",
      "5/5 [==============================] - 4s 842ms/step - loss: 0.0026 - accuracy: 1.0000 - val_loss: 5.8763 - val_accuracy: 0.5385\n",
      "Epoch 110/150\n",
      "5/5 [==============================] - 4s 854ms/step - loss: 1.4726e-04 - accuracy: 1.0000 - val_loss: 3.3365 - val_accuracy: 0.6154\n",
      "Epoch 111/150\n",
      "5/5 [==============================] - 5s 981ms/step - loss: 1.4697 - accuracy: 0.9000 - val_loss: 3.5255e-04 - val_accuracy: 0.6250\n",
      "Epoch 112/150\n",
      "5/5 [==============================] - 5s 940ms/step - loss: 3.0212 - accuracy: 0.8500 - val_loss: 11.1704 - val_accuracy: 0.5385\n",
      "Epoch 113/150\n",
      "5/5 [==============================] - 5s 902ms/step - loss: 1.2974 - accuracy: 0.7500 - val_loss: 3.1281 - val_accuracy: 0.6154\n",
      "Epoch 114/150\n",
      "5/5 [==============================] - 4s 852ms/step - loss: 0.3888 - accuracy: 0.9500 - val_loss: 7.0376 - val_accuracy: 0.7692\n",
      "Epoch 115/150\n",
      "5/5 [==============================] - 4s 758ms/step - loss: 0.6089 - accuracy: 0.9000 - val_loss: 5.9605e-07 - val_accuracy: 0.6154\n",
      "Epoch 116/150\n",
      "5/5 [==============================] - 5s 1s/step - loss: 1.1990 - accuracy: 0.8500 - val_loss: 8.4686 - val_accuracy: 0.5625\n",
      "Epoch 117/150\n",
      "5/5 [==============================] - 5s 964ms/step - loss: 0.2494 - accuracy: 0.9500 - val_loss: 5.7362 - val_accuracy: 0.4615\n",
      "Epoch 118/150\n",
      "5/5 [==============================] - 6s 1s/step - loss: 0.2513 - accuracy: 0.9500 - val_loss: 1.7238 - val_accuracy: 0.7692\n",
      "Epoch 119/150\n",
      "5/5 [==============================] - 5s 1s/step - loss: 0.0736 - accuracy: 0.9500 - val_loss: 4.4758 - val_accuracy: 0.6154\n",
      "Epoch 120/150\n",
      "5/5 [==============================] - 5s 905ms/step - loss: 0.8274 - accuracy: 0.9500 - val_loss: 0.0000e+00 - val_accuracy: 0.5385\n",
      "Epoch 121/150\n",
      "5/5 [==============================] - 5s 918ms/step - loss: 0.1806 - accuracy: 0.9500 - val_loss: 3.8732 - val_accuracy: 0.6250\n",
      "Epoch 122/150\n",
      "5/5 [==============================] - 4s 858ms/step - loss: 2.9685 - accuracy: 0.7000 - val_loss: 7.3834 - val_accuracy: 0.7692\n",
      "Epoch 123/150\n",
      "5/5 [==============================] - 6s 1s/step - loss: 2.0579 - accuracy: 0.7500 - val_loss: 0.0061 - val_accuracy: 0.5385\n",
      "Epoch 124/150\n",
      "5/5 [==============================] - 5s 987ms/step - loss: 0.6045 - accuracy: 0.9500 - val_loss: 2.4833 - val_accuracy: 0.4615\n",
      "Epoch 125/150\n",
      "5/5 [==============================] - 4s 707ms/step - loss: 2.3765 - accuracy: 0.8235 - val_loss: 0.0011 - val_accuracy: 0.6154\n",
      "Epoch 126/150\n",
      "5/5 [==============================] - 4s 890ms/step - loss: 1.3644 - accuracy: 0.8000 - val_loss: 9.2965 - val_accuracy: 0.5625\n",
      "Epoch 127/150\n",
      "5/5 [==============================] - 5s 922ms/step - loss: 0.0473 - accuracy: 1.0000 - val_loss: 5.9153 - val_accuracy: 0.6923\n",
      "Epoch 128/150\n",
      "5/5 [==============================] - 6s 1s/step - loss: 1.0520 - accuracy: 0.8000 - val_loss: 1.8684 - val_accuracy: 0.4615\n",
      "Epoch 129/150\n",
      "5/5 [==============================] - 5s 934ms/step - loss: 0.5074 - accuracy: 0.9000 - val_loss: 2.2567 - val_accuracy: 0.6923\n",
      "Epoch 130/150\n",
      "5/5 [==============================] - 5s 963ms/step - loss: 2.6135 - accuracy: 0.8500 - val_loss: 17.7574 - val_accuracy: 0.6923\n",
      "Epoch 131/150\n",
      "5/5 [==============================] - 6s 1s/step - loss: 2.9742e-06 - accuracy: 1.0000 - val_loss: 0.1935 - val_accuracy: 0.7500\n",
      "Epoch 132/150\n",
      "5/5 [==============================] - 6s 1s/step - loss: 0.2899 - accuracy: 0.9500 - val_loss: 5.3750 - val_accuracy: 0.6923\n",
      "Epoch 133/150\n",
      "5/5 [==============================] - 6s 1s/step - loss: 0.0881 - accuracy: 0.9500 - val_loss: 7.6547 - val_accuracy: 0.6154\n",
      "Epoch 134/150\n",
      "5/5 [==============================] - 5s 998ms/step - loss: 0.3895 - accuracy: 0.9500 - val_loss: 7.6748 - val_accuracy: 0.6923\n",
      "Epoch 135/150\n",
      "5/5 [==============================] - 5s 1s/step - loss: 0.2043 - accuracy: 0.9000 - val_loss: 0.0000e+00 - val_accuracy: 0.5385\n",
      "Epoch 136/150\n",
      "5/5 [==============================] - 5s 1s/step - loss: 0.0625 - accuracy: 0.9500 - val_loss: 2.7883 - val_accuracy: 0.6250\n",
      "Epoch 137/150\n",
      "5/5 [==============================] - 5s 985ms/step - loss: 0.0063 - accuracy: 1.0000 - val_loss: 0.0457 - val_accuracy: 0.7692\n",
      "Epoch 138/150\n",
      "5/5 [==============================] - 5s 933ms/step - loss: 0.3055 - accuracy: 0.9500 - val_loss: 11.8154 - val_accuracy: 0.6154\n",
      "Epoch 139/150\n",
      "5/5 [==============================] - 6s 1s/step - loss: 1.1133 - accuracy: 0.9000 - val_loss: 1.1921e-07 - val_accuracy: 0.7692\n",
      "Epoch 140/150\n",
      "5/5 [==============================] - 5s 932ms/step - loss: 0.5907 - accuracy: 0.9000 - val_loss: 8.3975 - val_accuracy: 0.3846\n",
      "Epoch 141/150\n",
      "5/5 [==============================] - 5s 934ms/step - loss: 1.1317 - accuracy: 0.9000 - val_loss: 1.0818e-05 - val_accuracy: 0.5625\n",
      "Epoch 142/150\n",
      "5/5 [==============================] - 5s 1s/step - loss: 0.0166 - accuracy: 1.0000 - val_loss: 12.2479 - val_accuracy: 0.5385\n",
      "Epoch 143/150\n",
      "5/5 [==============================] - 6s 1s/step - loss: 0.4232 - accuracy: 0.9000 - val_loss: 0.5869 - val_accuracy: 0.6154\n",
      "Epoch 144/150\n",
      "5/5 [==============================] - 6s 1s/step - loss: 0.0028 - accuracy: 1.0000 - val_loss: 12.5683 - val_accuracy: 0.3077\n",
      "Epoch 145/150\n",
      "5/5 [==============================] - 4s 864ms/step - loss: 3.2064e-05 - accuracy: 1.0000 - val_loss: 15.5597 - val_accuracy: 0.6923\n",
      "Epoch 146/150\n",
      "5/5 [==============================] - 5s 1s/step - loss: 0.0154 - accuracy: 1.0000 - val_loss: 19.7304 - val_accuracy: 0.5625\n",
      "Epoch 147/150\n",
      "5/5 [==============================] - 5s 1s/step - loss: 0.4003 - accuracy: 0.9000 - val_loss: 1.9332 - val_accuracy: 0.6923\n",
      "Epoch 148/150\n",
      "5/5 [==============================] - 5s 1s/step - loss: 0.4206 - accuracy: 0.9500 - val_loss: 0.7712 - val_accuracy: 0.5385\n",
      "Epoch 149/150\n",
      "5/5 [==============================] - 5s 968ms/step - loss: 0.3737 - accuracy: 0.9000 - val_loss: 8.6221 - val_accuracy: 0.4615\n",
      "Epoch 150/150\n",
      "5/5 [==============================] - 4s 899ms/step - loss: 1.0096 - accuracy: 0.9000 - val_loss: 11.5693 - val_accuracy: 0.4615\n",
      "Training Completed!\n"
     ]
    }
   ],
   "source": [
    "callbacks = [ModelCheckpoint(model_weights_file, monitor='val_acc', save_best_only=True)]\n",
    "\n",
    "history = model.fit_generator( train_generator, callbacks = callbacks, samples_per_epoch=nb_train_samples, \n",
    "                              nb_epoch=nb_epochs, validation_data=validation_generator, nb_val_samples=nb_val_samples)\n",
    "model.save(\"mobile.h5\")\n",
    "print('Training Completed!')"
   ]
  },
  {
   "cell_type": "code",
   "execution_count": 71,
   "metadata": {},
   "outputs": [],
   "source": [
    "# load and evaluate a saved model\n",
    "from numpy import loadtxt\n",
    "from keras.models import load_model\n",
    "\n",
    "# load model\n",
    "model_solid = load_model('mobile.h5')\n"
   ]
  },
  {
   "cell_type": "markdown",
   "metadata": {},
   "source": [
    "# Testing"
   ]
  },
  {
   "cell_type": "code",
   "execution_count": 72,
   "metadata": {},
   "outputs": [
    {
     "name": "stdout",
     "output_type": "stream",
     "text": [
      "Predicted Array: [[0.8074163  0.19258368]]\n",
      "Predicted Label: Degradable\n"
     ]
    }
   ],
   "source": [
    "img_path = \"mobile.png\"\n",
    "label = ['Degradable','non-degradable']\n",
    "img = image.load_img(img_path, target_size=(224, 224))\n",
    "x = image.img_to_array(img)\n",
    "x = np.expand_dims(x, axis=0)\n",
    "x = preprocess_input(x)\n",
    "\n",
    "features = model_solid.predict(x)\n",
    "ind = np.argmax(features,axis=1)\n",
    "print('Predicted Array:',features)\n",
    "print('Predicted Label:',label[ind[0]])"
   ]
  },
  {
   "cell_type": "markdown",
   "metadata": {},
   "source": []
  }
 ],
 "metadata": {
  "kernelspec": {
   "display_name": "Python 3",
   "language": "python",
   "name": "python3"
  },
  "language_info": {
   "codemirror_mode": {
    "name": "ipython",
    "version": 3
   },
   "file_extension": ".py",
   "mimetype": "text/x-python",
   "name": "python",
   "nbconvert_exporter": "python",
   "pygments_lexer": "ipython3",
   "version": "3.8.3"
  }
 },
 "nbformat": 4,
 "nbformat_minor": 2
}
